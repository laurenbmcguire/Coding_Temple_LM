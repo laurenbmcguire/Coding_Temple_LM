{
 "cells": [
  {
   "cell_type": "markdown",
   "metadata": {},
   "source": [
    "# Selenium Challenge\n",
    "<p>Oh no! You need to scrape and work with some data on a website that you used to frequent. The developers stuck it behind a login screen! How are you going to work with that data now??? Time to throw away beautiful soup and break out selenium.</p>\n",
    "<p>Use selenium to bypass the login screen so that you can automate the process of answering the following 3 questions.</p>\n",
    "<p>Challenge URL: <a href=\"https://modest-jennings-77f32e.netlify.app/\">https://modest-jennings-77f32e.netlify.app/</a></p>\n",
    "<p>Your password: jZ3HF+}g</p>"
   ]
  },
  {
   "cell_type": "markdown",
   "metadata": {},
   "source": [
    "## Question 1\n",
    "<p>Find the player with the most MPG in the league</p>"
   ]
  },
  {
   "cell_type": "code",
   "execution_count": null,
   "metadata": {},
   "outputs": [],
   "source": [
    "\n",
    "from selenium import webdriver\n",
    "from selenium.webdriver.common.keys import Keys\n",
    "from time import sleep\n",
    "import requests\n",
    "\n",
    "class Player:\n",
    "    def __init__(self, id, name, team, position, age, games_played, minutes_per_games):\n",
    "        self.id = id\n",
    "        self.name = name\n",
    "        self.team = team\n",
    "        self.position = position\n",
    "        self.age = age\n",
    "        self.games_played = GP\n",
    "        self.minutes_per_games = MPG\n"
   ]
  },
  {
   "cell_type": "code",
   "execution_count": null,
   "metadata": {},
   "outputs": [],
   "source": [
    "def get_player_data(player_name):\n",
    "    print(\"...\")\n",
    "\n",
    "    driver = webdriver.Chrome('./chromedriver')\n",
    "\n",
    "    data = driver.get('https://modest-jennings-77f32e.netlify.app/')\n",
    "\n",
    "    password = 'jZ3HF+}g'\n",
    "\n",
    "    password_box = driver.find_element_by_css_selector('#login-form.mt-4 input')\n",
    "\n",
    "    password_box.send_keys(password)\n",
    "\n",
    "    select_button = driver.find_element_by_css_selector('#login-form.mt-4 button').click()\n",
    "    \n",
    "    list1 = []\n",
    "    \n",
    "    for idx in range(len(table_rows)):    \n",
    "        player_dict = {\n",
    "            \"id\": driver.find_element_by_css_selector(f'#tablepress-71 tbody tr:nth-of-type({idx + 1}) .column-3').text,\n",
    "            \"name\": driver.find_element_by_css_selector(f'#tablepress-71 tbody tr:nth-of-type({idx + 1}) .column-2').text,\n",
    "            \"team\": driver.find_element_by_css_selector(f'#tablepress-71 tbody tr:nth-of-type({idx + 1}) .column-3').text,\n",
    "            \"position\": driver.find_element_by_css_selector(f'#tablepress-71 tbody tr:nth-of-type({idx + 1}) .column-4').text,\n",
    "            \"age\": driver.find_element_by_css_selector(f'#tablepress-71 tbody tr:nth-of-type({idx + 1}) .column-5').text,\n",
    "            \"GP\": driver.find_element_by_css_selector(f'#tablepress-71 tbody tr:nth-of-type({idx + 1}) .column-6').text,\n",
    "            \"MPG\": driver.find_element_by_css_selector(f'#tablepress-71 tbody tr:nth-of-type({idx + 1}) .column-7').text\n",
    "        }\n",
    "        \n",
    "        player = Player.from_dict(player_dict)\n",
    "        \n",
    "        players.append(player)\n",
    "\n",
    "\n",
    "get_player_data(\"player_name\")\n"
   ]
  },
  {
   "cell_type": "markdown",
   "metadata": {},
   "source": [
    "## Question 2\n",
    "<p>Please find the name of the oldest player on each team. Add them to a dictionary with each team's name being a key and the players name being the value.</p>"
   ]
  },
  {
   "cell_type": "code",
   "execution_count": null,
   "metadata": {},
   "outputs": [],
   "source": [
    "# Ex:\n",
    "oldest_players = {\n",
    "    \"Atl\": \"Lou Williams\",\n",
    "    \"Bos\": \"Tristan Thompson\",\n",
    "    # Etc for all teams\n",
    "}"
   ]
  },
  {
   "cell_type": "code",
   "execution_count": null,
   "metadata": {},
   "outputs": [],
   "source": [
    "def oldest_player():\n",
    "    print(\"...\")\n",
    "    \n",
    "    driver = webdriver.Chrome('./chromedriver')\n",
    "    driver.get('https://modest-jennings-77f32e.netlify.app/')\n",
    "\n",
    "    password = 'jZ3HF+}g'\n",
    "    password_box = driver.find_element_by_css_selector('#login-form.mt-4 input')\n",
    "    password_box.send_keys(password)\n",
    "    select_button = driver.find_element_by_css_selector('#login-form.mt-4 button').click()\n",
    "    \n",
    "oldest_player(\"pass\")"
   ]
  },
  {
   "cell_type": "markdown",
   "metadata": {},
   "source": [
    "## Question 3\n",
    "<p>Find the player with position F that had the least Games Played (GP) for each team, save as a dictionary. If there are multiple with the same GP, pick one.</p>"
   ]
  },
  {
   "cell_type": "code",
   "execution_count": null,
   "metadata": {},
   "outputs": [],
   "source": [
    "# Ex:\n",
    "least_played = {\n",
    "    \"Atl\": \"Solomon Hill\",\n",
    "    \"Bos\": \"Semi Ojeleye\",\n",
    "    # Etc for all teams\n",
    "}"
   ]
  },
  {
   "cell_type": "code",
   "execution_count": null,
   "metadata": {},
   "outputs": [],
   "source": [
    "def least_GP_player():\n",
    "    print(\"LOADING...\")\n",
    "    driver = webdriver.Chrome('./chromedriver')\n",
    "    driver.get('https://modest-jennings-77f32e.netlify.app/')\n",
    "    password = 'jZ3HF+}g'\n",
    "    password_box = driver.find_element_by_css_selector(\n",
    "        '#login-form.mt-4 input')\n",
    "    password_box.send_keys(password)\n",
    "    select_button = driver.find_element_by_css_selector(\n",
    "        '#login-form.mt-4 button').click()\n",
    "least_GP_player(\"pass\")\n"
   ]
  }
 ],
 "metadata": {
  "kernelspec": {
   "display_name": "Python 3",
   "language": "python",
   "name": "python3"
  },
  "language_info": {
   "codemirror_mode": {
    "name": "ipython",
    "version": 3
   },
   "file_extension": ".py",
   "mimetype": "text/x-python",
   "name": "python",
   "nbconvert_exporter": "python",
   "pygments_lexer": "ipython3",
   "version": "3.7.1"
  }
 },
 "nbformat": 4,
 "nbformat_minor": 2
}
