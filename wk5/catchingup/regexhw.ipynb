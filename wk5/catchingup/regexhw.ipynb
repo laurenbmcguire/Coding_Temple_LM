{
 "cells": [
  {
   "cell_type": "markdown",
   "metadata": {
    "id": "09G0-vjfqv-_"
   },
   "source": [
    "Click <a href='https://www.dataquest.io/blog/web-scraping-tutorial-python/'>here</a> to learn about Regular Expressions (RegEx) using Python."
   ]
  },
  {
   "cell_type": "code",
   "execution_count": null,
   "metadata": {
    "id": "XnNKbcLdqv_M"
   },
   "outputs": [],
   "source": [
    "########################\n",
    "# DO NOT RUN THIS CELL #\n",
    "########################\n",
    "\n",
    "a, X, 9, < -- ordinary characters just match themselves exactly.\n",
    ". (a period) -- matches any single character except newline '\\n'\n",
    "\\w -- matches a \"word\" character: a letter or digit or underbar [a-zA-Z0-9_].\n",
    "\\W -- matches any non-word character.\n",
    "\\b -- matches word boundary (in between a word character and a non word character)\n",
    "\\s -- matches a single whitespace character -- space, newline, return, tab\n",
    "\\S -- matches any non-whitespace character.\n",
    "\\t, \\n, \\r -- tab, newline, return\n",
    "\\d -- matches any numeric digit [0-9]\n",
    "\\D matches any non-numeric character.\n",
    "^ -- matches the beginning of the string, or specify omition of certain characters\n",
    "$ -- matches the end of the string\n",
    "\\ -- escapes special character.\n",
    "(x|y|z) matches exactly one of x, y or z.\n",
    "(x) in general is a remembered group. We can get the value of what matched by using the groups() method of the object returned by re.search.\n",
    "x? matches an optional x character (in other words, it matches an x zero or one times).\n",
    "x* matches x zero or more times.\n",
    "x+ matches x one or more times.\n",
    "x{m,n} matches an x character at least m times, but not more than n times.\n",
    "?: matches an expression but do not capture it. Non capturing group.\n",
    "?= matches a suffix but exclude it from capture. Positive lookahead.\n",
    "a(?=b) will match the \"a\" in \"ab\", but not the \"a\" in \"ac\"\n",
    "In other words, a(?=b) matches the \"a\" which is followed by the string 'b', without consuming what follows the a.\n",
    "?! matches if suffix is absent. Negative look ahead.\n",
    "a(?!b) will match the \"a\" in \"ac\", but not the \"a\" in \"ab\"\n",
    "?<= positive look behind\n",
    "[] matches for groupings of consecutive characters\n",
    "?<! negative look behind\n",
    "\n",
    "########################\n",
    "# DO NOT RUN THIS CELL #\n",
    "########################"
   ]
  },
  {
   "cell_type": "markdown",
   "metadata": {
    "id": "aQbvpMJKqv_O"
   },
   "source": [
    "What are word boundaries?\n",
    "--------------------------------------------------\n",
    "Before the first character in the string, if the first character is a word character.<br>\n",
    "After the last character in the string, if the last character is a word character.<br>\n",
    "Between two characters in the string, where one is a word character and the other is not a word character<br>"
   ]
  },
  {
   "cell_type": "code",
   "execution_count": 2,
   "metadata": {},
   "outputs": [],
   "source": [
    "import re\n",
    "\n",
    "# open a new data stream into a file\n",
    "file = open('./names.txt', encoding='utf-8')\n",
    "\n",
    "# read the text of the file and store it as Python data\n",
    "data = file.read()\n",
    "\n",
    "# always close the data stream\n",
    "file.close()"
   ]
  },
  {
   "cell_type": "markdown",
   "metadata": {},
   "source": [
    "### Search for names"
   ]
  },
  {
   "cell_type": "code",
   "execution_count": 4,
   "metadata": {},
   "outputs": [
    {
     "data": {
      "text/plain": [
       "<re.Match object; span=(0, 7), match='Hawkins'>"
      ]
     },
     "execution_count": 4,
     "metadata": {},
     "output_type": "execute_result"
    }
   ],
   "source": [
    "# .match()\n",
    "re.match('Hawkins', data)"
   ]
  },
  {
   "cell_type": "code",
   "execution_count": 5,
   "metadata": {},
   "outputs": [],
   "source": [
    "re.match('Patel', data)"
   ]
  },
  {
   "cell_type": "code",
   "execution_count": 6,
   "metadata": {},
   "outputs": [
    {
     "data": {
      "text/plain": [
       "<re.Match object; span=(0, 14), match='Hawkins, Derek'>"
      ]
     },
     "execution_count": 6,
     "metadata": {},
     "output_type": "execute_result"
    }
   ],
   "source": [
    "re.match('Hawkins, Derek', data)"
   ]
  },
  {
   "cell_type": "markdown",
   "metadata": {},
   "source": [
    "### Search for phone numbers"
   ]
  },
  {
   "cell_type": "code",
   "execution_count": 11,
   "metadata": {},
   "outputs": [
    {
     "data": {
      "text/plain": [
       "\"Derek's\""
      ]
     },
     "execution_count": 11,
     "metadata": {},
     "output_type": "execute_result"
    }
   ],
   "source": [
    "# 'Derek's'\n",
    "# \"Derek's\"\n",
    "# 'Derek\\'s'"
   ]
  },
  {
   "cell_type": "code",
   "execution_count": 7,
   "metadata": {},
   "outputs": [
    {
     "data": {
      "text/plain": [
       "<re.Match object; span=(671, 676), match='Patel'>"
      ]
     },
     "execution_count": 7,
     "metadata": {},
     "output_type": "execute_result"
    }
   ],
   "source": [
    "re.search('Patel', data)"
   ]
  },
  {
   "cell_type": "code",
   "execution_count": 12,
   "metadata": {
    "scrolled": true
   },
   "outputs": [
    {
     "data": {
      "text/plain": [
       "<re.Match object; span=(38, 52), match='(555) 555-5555'>"
      ]
     },
     "execution_count": 12,
     "metadata": {},
     "output_type": "execute_result"
    }
   ],
   "source": [
    "re.search('\\(\\d\\d\\d\\) \\d\\d\\d-\\d\\d\\d\\d', data)"
   ]
  },
  {
   "cell_type": "code",
   "execution_count": 13,
   "metadata": {},
   "outputs": [
    {
     "data": {
      "text/plain": [
       "<re.Match object; span=(0, 14), match='Hawkins, Derek'>"
      ]
     },
     "execution_count": 13,
     "metadata": {},
     "output_type": "execute_result"
    }
   ],
   "source": [
    "re.search('\\w\\w\\w\\w\\w\\w\\w, \\w\\w\\w\\w\\w', data)"
   ]
  },
  {
   "cell_type": "code",
   "execution_count": 14,
   "metadata": {
    "scrolled": true
   },
   "outputs": [
    {
     "data": {
      "text/plain": [
       "<re.Match object; span=(0, 14), match='Hawkins, Derek'>"
      ]
     },
     "execution_count": 14,
     "metadata": {},
     "output_type": "execute_result"
    }
   ],
   "source": [
    "re.search('\\w\\w\\w\\w\\w\\w\\w, \\w\\w\\w\\w\\w', data)\n",
    "re.search('\\w{7}, \\w{5}', data)"
   ]
  },
  {
   "cell_type": "code",
   "execution_count": 16,
   "metadata": {},
   "outputs": [
    {
     "data": {
      "text/plain": [
       "<re.Match object; span=(0, 14), match='Hawkins, Derek'>"
      ]
     },
     "execution_count": 16,
     "metadata": {},
     "output_type": "execute_result"
    }
   ],
   "source": [
    "re.search('\\w\\w\\w\\w\\w\\w\\w, \\w\\w\\w\\w\\w', data)"
   ]
  },
  {
   "cell_type": "code",
   "execution_count": 17,
   "metadata": {},
   "outputs": [
    {
     "data": {
      "text/plain": [
       "<re.Match object; span=(0, 14), match='Hawkins, Derek'>"
      ]
     },
     "execution_count": 17,
     "metadata": {},
     "output_type": "execute_result"
    }
   ],
   "source": [
    "re.search('\\w+, \\w+', data)"
   ]
  },
  {
   "cell_type": "code",
   "execution_count": 18,
   "metadata": {},
   "outputs": [
    {
     "data": {
      "text/plain": [
       "<re.Match object; span=(0, 14), match='Hawkins, Derek'>"
      ]
     },
     "execution_count": 18,
     "metadata": {},
     "output_type": "execute_result"
    }
   ],
   "source": [
    "re.search('\\w{7}, \\w+', data)"
   ]
  },
  {
   "cell_type": "markdown",
   "metadata": {
    "id": "_jhz8AUKqv_X"
   },
   "source": [
    "<strong>Exercise 1</strong>:<br>\n",
    "Write a function that checks for n number of consecutive digits and returns the match"
   ]
  },
  {
   "cell_type": "code",
   "execution_count": 22,
   "metadata": {},
   "outputs": [],
   "source": [
    "# \"g\" * 5\n",
    "# \\d * 5\n",
    "\n",
    "def with_n_digits(num):\n",
    "    return re.search('\\d'*num, data)"
   ]
  },
  {
   "cell_type": "code",
   "execution_count": 24,
   "metadata": {},
   "outputs": [
    {
     "data": {
      "text/plain": [
       "<re.Match object; span=(48, 52), match='5555'>"
      ]
     },
     "execution_count": 24,
     "metadata": {},
     "output_type": "execute_result"
    }
   ],
   "source": [
    "with_n_digits(4)"
   ]
  },
  {
   "cell_type": "markdown",
   "metadata": {
    "id": "_jhz8AUKqv_X"
   },
   "source": [
    "<strong>Exercise 2</strong>:<br>\n",
    "Use Regular Expressions to pull the last phone number with the country code in the list using .findall()"
   ]
  },
  {
   "cell_type": "code",
   "execution_count": 45,
   "metadata": {},
   "outputs": [],
   "source": [
    "# .findall()\n",
    "phone_numbers = \"(555) 555-5559 (555) 555-5558 555 555-5557 555 555-5556 555 555-5555 555-555-5554 555-555-5553 +1 555-555-5552\""
   ]
  },
  {
   "cell_type": "code",
   "execution_count": 46,
   "metadata": {},
   "outputs": [
    {
     "data": {
      "text/plain": [
       "['(555) 555-5559', '(555) 555-5558']"
      ]
     },
     "execution_count": 46,
     "metadata": {},
     "output_type": "execute_result"
    }
   ],
   "source": [
    "# find phone number with parantheses\n",
    "re.findall('\\(\\d{3}\\) \\d{3}-\\d{4}', phone_numbers)"
   ]
  },
  {
   "cell_type": "code",
   "execution_count": 47,
   "metadata": {
    "scrolled": true
   },
   "outputs": [
    {
     "data": {
      "text/plain": [
       "['(555) 555-5559',\n",
       " '(555) 555-5558',\n",
       " '555 555-5557',\n",
       " '555 555-5556',\n",
       " '555 555-5555',\n",
       " '555-555-5554',\n",
       " '555-555-5553',\n",
       " '555-555-5552']"
      ]
     },
     "execution_count": 47,
     "metadata": {},
     "output_type": "execute_result"
    }
   ],
   "source": [
    "# find phone number w/ parantheses AND hyphens\n",
    "re.findall('\\(?\\d{3}\\)?\\s?-?\\d{3}-\\d{4}', phone_numbers)"
   ]
  },
  {
   "cell_type": "code",
   "execution_count": 52,
   "metadata": {},
   "outputs": [
    {
     "data": {
      "text/plain": [
       "['(555) 555-5559',\n",
       " '(555) 555-5558',\n",
       " '555 555-5557',\n",
       " '555 555-5556',\n",
       " '555 555-5555',\n",
       " '555-555-5554',\n",
       " '555-555-5553',\n",
       " '+1 555-555-5552']"
      ]
     },
     "execution_count": 52,
     "metadata": {},
     "output_type": "execute_result"
    }
   ],
   "source": [
    "# find phone number w/ country code\n",
    "[n.strip() for n in re.findall('\\+?\\d?\\s?\\(?\\d{3}\\)?\\s?-?\\d{3}-\\d{4}', phone_numbers)]"
   ]
  },
  {
   "cell_type": "code",
   "execution_count": 32,
   "metadata": {},
   "outputs": [],
   "source": [
    "information = \"\"\"\n",
    "Patel, Ripal ripalp@codingtemple.com : 555 555-5555\n",
    "Carter, Joel joelc@codingtemple.com : (555) 555-5555\n",
    "Lang, Lucas lucasl@codingtemple.com : 555-555-5555\n",
    "Stanton, Brian brians@codingtemple.com : 555 555-5555\n",
    "Davitt, Sam samd@codingtemple.com : (555) 555-5555\n",
    "\"\"\""
   ]
  },
  {
   "cell_type": "code",
   "execution_count": 40,
   "metadata": {
    "scrolled": true
   },
   "outputs": [
    {
     "data": {
      "text/plain": [
       "['ripalp@codingtemple.com',\n",
       " 'joelc@codingtemple.com',\n",
       " 'lucasl@codingtemple.com',\n",
       " 'brians@codingtemple.com',\n",
       " 'samd@codingtemple.com']"
      ]
     },
     "execution_count": 40,
     "metadata": {},
     "output_type": "execute_result"
    }
   ],
   "source": [
    "re.findall('[\\d\\w\\'-+.]*@[codingtempl]+[.com]+', information)"
   ]
  },
  {
   "cell_type": "code",
   "execution_count": 41,
   "metadata": {
    "scrolled": true
   },
   "outputs": [
    {
     "data": {
      "text/plain": [
       "['@codingtemple.com',\n",
       " '@codingtemple.com',\n",
       " '@codingtemple.com',\n",
       " '@codingtemple.com',\n",
       " '@codingtemple.com']"
      ]
     },
     "execution_count": 41,
     "metadata": {},
     "output_type": "execute_result"
    }
   ],
   "source": [
    "re.findall('@[codingtempl]+[.com]+', information)"
   ]
  },
  {
   "cell_type": "code",
   "execution_count": null,
   "metadata": {},
   "outputs": [],
   "source": [
    "# re.X - re.VERBOSE\n",
    "# re.M - re.MULTILINE\n",
    "# re.I - re.IGNORECASE"
   ]
  },
  {
   "cell_type": "code",
   "execution_count": 62,
   "metadata": {},
   "outputs": [
    {
     "data": {
      "text/plain": [
       "[('Patel, Ripal', ' ripalp@codingtemple.com', ' : 555 555-5555'),\n",
       " ('Carter, Joel', ' joelc@codingtemple.com', ' : (555) 555-5555'),\n",
       " ('Lang, Lucas', ' lucasl@codingtemple.com', ' : 555-555-5555'),\n",
       " ('Stanton, Brian', ' brians@codingtemple.com', ' : 555 555-5555'),\n",
       " ('Davitt, Sam', ' samd@codingtemple.com', ' : (555) 555-5555')]"
      ]
     },
     "execution_count": 62,
     "metadata": {},
     "output_type": "execute_result"
    }
   ],
   "source": [
    "info = re.findall('''\n",
    "    ([\\w]+,\\s[\\w]+)                     # last_name, first_name\n",
    "    (\\s[\\d\\w\\'-+.]+@[-.\\w\\d]+)          # email\n",
    "    (\\s:\\s\\(?\\d{3}\\)?\\s?-?\\d{3}-\\d{4})  # phone\n",
    "''', information, re.X)\n",
    "# ''', information, re.X|re.I|re.M)\n",
    "info"
   ]
  },
  {
   "cell_type": "code",
   "execution_count": 70,
   "metadata": {
    "scrolled": true
   },
   "outputs": [
    {
     "data": {
      "text/plain": [
       "[{'name': 'Patel, Ripal',\n",
       "  'email': 'ripalp@codingtemple.com',\n",
       "  'phone': '555 555-5555'},\n",
       " {'name': 'Carter, Joel',\n",
       "  'email': 'joelc@codingtemple.com',\n",
       "  'phone': '(555) 555-5555'},\n",
       " {'name': 'Lang, Lucas',\n",
       "  'email': 'lucasl@codingtemple.com',\n",
       "  'phone': '555-555-5555'},\n",
       " {'name': 'Stanton, Brian',\n",
       "  'email': 'brians@codingtemple.com',\n",
       "  'phone': '555 555-5555'},\n",
       " {'name': 'Davitt, Sam',\n",
       "  'email': 'samd@codingtemple.com',\n",
       "  'phone': '(555) 555-5555'}]"
      ]
     },
     "execution_count": 70,
     "metadata": {},
     "output_type": "execute_result"
    }
   ],
   "source": [
    "people = []\n",
    "for person in info:\n",
    "    person_dict = {\n",
    "        'name': person[0],\n",
    "        'email': person[1].strip(),\n",
    "        'phone': person[2][3:]\n",
    "    }\n",
    "    people.append(person_dict)\n",
    "    \n",
    "people"
   ]
  },
  {
   "cell_type": "code",
   "execution_count": 72,
   "metadata": {
    "scrolled": true
   },
   "outputs": [
    {
     "name": "stdout",
     "output_type": "stream",
     "text": [
      "Patel, Ripal\n",
      "ripalp@codingtemple.com\n",
      "555 555-5555\n",
      "\n",
      "Carter, Joel\n",
      "joelc@codingtemple.com\n",
      "(555) 555-5555\n",
      "\n",
      "Lang, Lucas\n",
      "lucasl@codingtemple.com\n",
      "555-555-5555\n",
      "\n",
      "Stanton, Brian\n",
      "brians@codingtemple.com\n",
      "555 555-5555\n",
      "\n",
      "Davitt, Sam\n",
      "samd@codingtemple.com\n",
      "(555) 555-5555\n",
      "\n"
     ]
    }
   ],
   "source": [
    "for p in people:\n",
    "    print(p.get('name'))\n",
    "    print(p.get('email'))\n",
    "    print(p.get('phone'))\n",
    "    print()"
   ]
  },
  {
   "cell_type": "code",
   "execution_count": 73,
   "metadata": {},
   "outputs": [],
   "source": [
    "contact_search = re.compile('''\n",
    "    (?P<name>[\\w]+,\\s[\\w]+)                     # last_name, first_name\n",
    "    (?P<email>\\s[\\d\\w\\'-+.]+@[-.\\w\\d]+)          # email\n",
    "    (?P<phone>\\s:\\s\\(?\\d{3}\\)?\\s?-?\\d{3}-\\d{4})  # phone\n",
    "''', re.X)"
   ]
  },
  {
   "cell_type": "code",
   "execution_count": 88,
   "metadata": {},
   "outputs": [
    {
     "name": "stdout",
     "output_type": "stream",
     "text": [
      "Name: Patel, Ripal\n",
      "Email: ripalp@codingtemple.com\n",
      "Phone: 555 555-5555\n",
      "\n",
      "Name: Carter, Joel\n",
      "Email: joelc@codingtemple.com\n",
      "Phone: (555) 555-5555\n",
      "\n",
      "Name: Lang, Lucas\n",
      "Email: lucasl@codingtemple.com\n",
      "Phone: 555-555-5555\n",
      "\n",
      "Name: Stanton, Brian\n",
      "Email: brians@codingtemple.com\n",
      "Phone: 555 555-5555\n",
      "\n",
      "Name: Davitt, Sam\n",
      "Email: samd@codingtemple.com\n",
      "Phone: (555) 555-5555\n",
      "\n"
     ]
    }
   ],
   "source": [
    "# help(contact_search.finditer)\n",
    "for i in contact_search.finditer(information):\n",
    "    print(f\"Name: {i.group('name')}\\nEmail: {i.group('email').strip()}\\nPhone: {i.group('phone')[3:]}\\n\")"
   ]
  },
  {
   "cell_type": "code",
   "execution_count": 92,
   "metadata": {},
   "outputs": [
    {
     "data": {
      "text/plain": [
       "[<re.Match object; span=(1, 52), match='Patel, Ripal ripalp@codingtemple.com : 555 555-55>,\n",
       " <re.Match object; span=(53, 105), match='Carter, Joel joelc@codingtemple.com : (555) 555-5>,\n",
       " <re.Match object; span=(106, 156), match='Lang, Lucas lucasl@codingtemple.com : 555-555-555>,\n",
       " <re.Match object; span=(157, 210), match='Stanton, Brian brians@codingtemple.com : 555 555->,\n",
       " <re.Match object; span=(211, 261), match='Davitt, Sam samd@codingtemple.com : (555) 555-555>]"
      ]
     },
     "execution_count": 92,
     "metadata": {},
     "output_type": "execute_result"
    }
   ],
   "source": [
    "list(contact_search.finditer(information))"
   ]
  },
  {
   "cell_type": "markdown",
   "metadata": {
    "id": "5PaSgzNfqv_j"
   },
   "source": [
    "### In-class Exercise <br>\n",
    "<p>Print each persons name and twitter handle etc., using groups, should look like:</p>"
   ]
  },
  {
   "cell_type": "code",
   "execution_count": 3,
   "metadata": {
    "id": "uCqCIM4wqv_f"
   },
   "outputs": [],
   "source": [
    "# [\n",
    "#     ([first name] [last name],\n",
    "#      email, \n",
    "#      phone,\n",
    "#      title,\n",
    "#      Twitter handle)\n",
    "# ]"
   ]
  },
  {
   "cell_type": "code",
   "execution_count": 1,
   "metadata": {},
   "outputs": [
    {
     "ename": "SyntaxError",
     "evalue": "invalid non-printable character U+200B (3645313050.py, line 8)",
     "output_type": "error",
     "traceback": [
      "\u001b[0;36m  Input \u001b[0;32mIn [1]\u001b[0;36m\u001b[0m\n\u001b[0;31m    ​\u001b[0m\n\u001b[0m    ^\u001b[0m\n\u001b[0;31mSyntaxError\u001b[0m\u001b[0;31m:\u001b[0m invalid non-printable character U+200B\n"
     ]
    }
   ],
   "source": [
    "compiler = re.compile(r'''\n",
    "    (?P<name>[\\w ,-]*,?\\s[\\w-]*)\\t                 \n",
    "    (?P<phone>[\\w\\d.+-]+@[\\w\\d.-]+)\\t              \n",
    "    (?P<email>\\(?\\d{3}\\)?-?\\s?\\d{3}-\\d{4})?\\t      \n",
    "    (?P<occupation>[\\w ,']+)\\t?                    \n",
    "    (?P<twitter>[@\\w]+)?                           \n",
    "''', re.X)\n",
    "​\n",
    "for p in compiler.finditer(data):\n",
    "    print(f\"Name: {p.group('name')}\\nPhone: {p.group('phone')}\\nEmail: {p.group('email')}\\nOccupation: {p.group('occupation')}\\nTwitter: {p.group('twitter')}\\n\")\n"
   ]
  }
 ],
 "metadata": {
  "colab": {
   "name": "Regular Expressions.ipynb",
   "provenance": []
  },
  "kernelspec": {
   "display_name": "Python 3",
   "language": "python",
   "name": "python3"
  },
  "language_info": {
   "codemirror_mode": {
    "name": "ipython",
    "version": 3
   },
   "file_extension": ".py",
   "mimetype": "text/x-python",
   "name": "python",
   "nbconvert_exporter": "python",
   "pygments_lexer": "ipython3",
   "version": "3.9.11"
  }
 },
 "nbformat": 4,
 "nbformat_minor": 1
}
