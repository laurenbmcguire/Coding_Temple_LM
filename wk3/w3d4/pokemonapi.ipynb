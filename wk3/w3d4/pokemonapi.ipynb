{
 "cells": [
  {
   "cell_type": "code",
   "execution_count": 1,
   "id": "d1c2be50-8e19-4d11-8201-687bd4d2be96",
   "metadata": {},
   "outputs": [],
   "source": [
    "import requests"
   ]
  },
  {
   "cell_type": "code",
   "execution_count": 49,
   "id": "6fdac984-df4a-4a10-b670-5e0359cc7b8c",
   "metadata": {},
   "outputs": [],
   "source": [
    "def pokeapi():\n",
    "#     base_url = 'https://pokeapi.co/api/v2/'\n",
    "#     endpoint = 'pokemon/'\n",
    "#     req_params = {\n",
    "#         'limit': 3,\n",
    "#     }\n",
    "#     response = requests.get(f'{base_url}/{endpoint}/?limit=3')\n",
    "#     res = response.json()\n",
    "    req = requests.get(f'https://pokeapi.co/api/v2/pokemon/?limit=5')\n",
    "    res = req.json()   \n",
    "    names = []\n",
    " \n",
    "    for p in res['results']:\n",
    "        names.append(p['name'])\n",
    "        \n",
    "        abl = []\n",
    "\n",
    " \n",
    "        for name in names:\n",
    "            pokedex = {}\n",
    "            pk = requests.get(f'https://pokeapi.co/api/v2/pokemon/{name}')\n",
    "            pokemon = pk.json()\n",
    "            s = requests.get(f'https://pokeapi.co/api/v2/pokemon-species/{name}') \n",
    "            ps = s.json()\n",
    "\n",
    "        pokedex = { name:{\n",
    "                    'id': pokemon['id'],\n",
    "                    'height': pokemon['height'],\n",
    "                    'weight': pokemon['weight'],\n",
    "                    'species': pokemon['species']['name'],\n",
    "                    'color': ps['color']['name'],\n",
    "                    'type': pokemon['types'][0]['type']['name'],\n",
    "                    'abilities': abl}\n",
    "                    }\n",
    "\n",
    "#         for a in pokemon['abilities']:\n",
    "#             ab = a['ability']['name']\n",
    "#             abl.append(ab)\n",
    "\n",
    "\n",
    "    return pokedex"
   ]
  },
  {
   "cell_type": "code",
   "execution_count": 50,
   "id": "df62e3b2-cbe2-4865-a105-ac21aafad6ab",
   "metadata": {},
   "outputs": [
    {
     "data": {
      "text/plain": [
       "{'charmeleon': {'id': 5,\n",
       "  'height': 11,\n",
       "  'weight': 190,\n",
       "  'species': 'charmeleon',\n",
       "  'color': 'red',\n",
       "  'type': 'fire',\n",
       "  'abilities': []}}"
      ]
     },
     "execution_count": 50,
     "metadata": {},
     "output_type": "execute_result"
    }
   ],
   "source": [
    "pokeapi()"
   ]
  },
  {
   "cell_type": "code",
   "execution_count": null,
   "id": "92b18135-858f-4db0-bc10-03941521f6c9",
   "metadata": {},
   "outputs": [],
   "source": []
  }
 ],
 "metadata": {
  "kernelspec": {
   "display_name": "Python 3",
   "language": "python",
   "name": "python3"
  },
  "language_info": {
   "codemirror_mode": {
    "name": "ipython",
    "version": 3
   },
   "file_extension": ".py",
   "mimetype": "text/x-python",
   "name": "python",
   "nbconvert_exporter": "python",
   "pygments_lexer": "ipython3",
   "version": "3.8.8"
  }
 },
 "nbformat": 4,
 "nbformat_minor": 5
}
