{
 "cells": [
  {
   "cell_type": "code",
   "execution_count": 1,
   "id": "69a38fae-4628-4364-8b20-01739be79a05",
   "metadata": {},
   "outputs": [],
   "source": [
    "import requests"
   ]
  },
  {
   "cell_type": "code",
   "execution_count": 2,
   "id": "91ab416d-031a-454c-acf6-d5c65f2afcd8",
   "metadata": {},
   "outputs": [],
   "source": [
    "def get_pokemon(limit):\n",
    "    response = requests.get('https://pokeapi.co/api/v2/pokemon',\n",
    "                params={'limit': limit})\n",
    "    \n",
    "    res = response.json()\n",
    "    poke = res['results']\n",
    "    pokemon = []\n",
    "    for p in poke:\n",
    "        pokemon.append(p['name'])\n",
    "\n",
    "    return pokemon"
   ]
  },
  {
   "cell_type": "code",
   "execution_count": 3,
   "id": "87eb91b1-bb52-4d1f-9bb2-caf687cb3e2f",
   "metadata": {},
   "outputs": [],
   "source": [
    "names = get_pokemon(10)"
   ]
  },
  {
   "cell_type": "code",
   "execution_count": 4,
   "id": "c766413f-511f-43be-9b55-ec76b6a6d38d",
   "metadata": {},
   "outputs": [],
   "source": [
    "pm = names"
   ]
  },
  {
   "cell_type": "code",
   "execution_count": 5,
   "id": "cf8871e8-1ba0-4949-aeda-30e1ccc19031",
   "metadata": {},
   "outputs": [],
   "source": [
    "def get_info(names):\n",
    "    p ={}\n",
    "    \n",
    "    for name in names:\n",
    "        abl = []\n",
    "        mov = []\n",
    "        typ = []\n",
    "        response = requests.get('https://pokeapi.co/api/v2/pokemon/' + name)\n",
    "        res = response.json()\n",
    "        \n",
    "\n",
    "        for a in res['abilities']:\n",
    "            abl.append(a['ability']['name'])\n",
    "            \n",
    "            \n",
    "        response2 = requests.get('https://pokeapi.co/api/v2/pokemon-color/' + name)\n",
    "        res2 = response.json()   \n",
    "  \n",
    "        \n",
    "        p[name] = {'id':res['id'], \n",
    "           'height':res['height'], \n",
    "           'weight':res['weight'],\n",
    "           'abilities': abl,\n",
    "           'color': res2['name'],\n",
    "           'type': res['types'][0]['type']['name']\n",
    "\n",
    "              }\n",
    "    return p"
   ]
  },
  {
   "cell_type": "code",
   "execution_count": 6,
   "id": "5d8c523b-82d2-4bb3-ba0d-b1c769243b65",
   "metadata": {},
   "outputs": [],
   "source": [
    "pokedex = get_info(pm)"
   ]
  },
  {
   "cell_type": "code",
   "execution_count": 7,
   "id": "04667ba6-1286-4ef8-b1e5-b8236b6eddf1",
   "metadata": {},
   "outputs": [
    {
     "data": {
      "text/plain": [
       "{'bulbasaur': {'id': 1,\n",
       "  'height': 7,\n",
       "  'weight': 69,\n",
       "  'abilities': ['overgrow', 'chlorophyll'],\n",
       "  'color': 'bulbasaur',\n",
       "  'type': 'grass'},\n",
       " 'ivysaur': {'id': 2,\n",
       "  'height': 10,\n",
       "  'weight': 130,\n",
       "  'abilities': ['overgrow', 'chlorophyll'],\n",
       "  'color': 'ivysaur',\n",
       "  'type': 'grass'},\n",
       " 'venusaur': {'id': 3,\n",
       "  'height': 20,\n",
       "  'weight': 1000,\n",
       "  'abilities': ['overgrow', 'chlorophyll'],\n",
       "  'color': 'venusaur',\n",
       "  'type': 'grass'},\n",
       " 'charmander': {'id': 4,\n",
       "  'height': 6,\n",
       "  'weight': 85,\n",
       "  'abilities': ['blaze', 'solar-power'],\n",
       "  'color': 'charmander',\n",
       "  'type': 'fire'},\n",
       " 'charmeleon': {'id': 5,\n",
       "  'height': 11,\n",
       "  'weight': 190,\n",
       "  'abilities': ['blaze', 'solar-power'],\n",
       "  'color': 'charmeleon',\n",
       "  'type': 'fire'},\n",
       " 'charizard': {'id': 6,\n",
       "  'height': 17,\n",
       "  'weight': 905,\n",
       "  'abilities': ['blaze', 'solar-power'],\n",
       "  'color': 'charizard',\n",
       "  'type': 'fire'},\n",
       " 'squirtle': {'id': 7,\n",
       "  'height': 5,\n",
       "  'weight': 90,\n",
       "  'abilities': ['torrent', 'rain-dish'],\n",
       "  'color': 'squirtle',\n",
       "  'type': 'water'},\n",
       " 'wartortle': {'id': 8,\n",
       "  'height': 10,\n",
       "  'weight': 225,\n",
       "  'abilities': ['torrent', 'rain-dish'],\n",
       "  'color': 'wartortle',\n",
       "  'type': 'water'},\n",
       " 'blastoise': {'id': 9,\n",
       "  'height': 16,\n",
       "  'weight': 855,\n",
       "  'abilities': ['torrent', 'rain-dish'],\n",
       "  'color': 'blastoise',\n",
       "  'type': 'water'},\n",
       " 'caterpie': {'id': 10,\n",
       "  'height': 3,\n",
       "  'weight': 29,\n",
       "  'abilities': ['shield-dust', 'run-away'],\n",
       "  'color': 'caterpie',\n",
       "  'type': 'bug'}}"
      ]
     },
     "execution_count": 7,
     "metadata": {},
     "output_type": "execute_result"
    }
   ],
   "source": [
    "pokedex"
   ]
  },
  {
   "cell_type": "code",
   "execution_count": 57,
   "id": "a1b43cd1-1133-4be0-8228-92b0e6b79056",
   "metadata": {},
   "outputs": [],
   "source": []
  }
 ],
 "metadata": {
  "kernelspec": {
   "display_name": "lighthouselabs_env",
   "language": "python",
   "name": "lighthouselabs_env"
  },
  "language_info": {
   "codemirror_mode": {
    "name": "ipython",
    "version": 3
   },
   "file_extension": ".py",
   "mimetype": "text/x-python",
   "name": "python",
   "nbconvert_exporter": "python",
   "pygments_lexer": "ipython3",
   "version": "3.6.10"
  }
 },
 "nbformat": 4,
 "nbformat_minor": 5
}
