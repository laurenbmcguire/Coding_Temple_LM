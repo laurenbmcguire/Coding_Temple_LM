{
 "cells": [
  {
   "cell_type": "code",
   "execution_count": 1,
   "id": "f4c93304-7b8c-4538-8bab-1a0aad32c532",
   "metadata": {},
   "outputs": [],
   "source": [
    "from pyhw2 import square_footage_of_room"
   ]
  },
  {
   "cell_type": "code",
   "execution_count": 3,
   "id": "fe60108c-61e4-4353-84d9-9ca31919ebf6",
   "metadata": {},
   "outputs": [
    {
     "name": "stdin",
     "output_type": "stream",
     "text": [
      "enter the width of the room 9\n"
     ]
    }
   ],
   "source": [
    "w=input(\"enter the width of the room\")"
   ]
  },
  {
   "cell_type": "code",
   "execution_count": 4,
   "id": "8c255a82-5940-4fbf-8023-73a56954dc06",
   "metadata": {},
   "outputs": [
    {
     "name": "stdin",
     "output_type": "stream",
     "text": [
      "enter the height of the room 8\n"
     ]
    }
   ],
   "source": [
    "h=input(\"enter the height of the room\")"
   ]
  },
  {
   "cell_type": "code",
   "execution_count": 5,
   "id": "fd8eeed6-3689-451b-b838-c0e455fe1b44",
   "metadata": {},
   "outputs": [
    {
     "data": {
      "text/plain": [
       "72"
      ]
     },
     "execution_count": 5,
     "metadata": {},
     "output_type": "execute_result"
    }
   ],
   "source": [
    "square_footage_of_room(w,h)"
   ]
  },
  {
   "cell_type": "code",
   "execution_count": null,
   "id": "af85f167-53fd-401c-995b-1c3187242ad8",
   "metadata": {},
   "outputs": [],
   "source": []
  },
  {
   "cell_type": "code",
   "execution_count": 1,
   "id": "4ba5e7d8-91a9-4b30-a7c7-f1821f3ac292",
   "metadata": {},
   "outputs": [],
   "source": [
    "from pyhw2 import findCircum"
   ]
  },
  {
   "cell_type": "code",
   "execution_count": 2,
   "id": "82727202-3f76-4666-8314-5694f5aa7c70",
   "metadata": {},
   "outputs": [
    {
     "name": "stdin",
     "output_type": "stream",
     "text": [
      "enter the radius of the circle 5\n"
     ]
    }
   ],
   "source": [
    "r=input(\"enter the radius of the circle\")"
   ]
  },
  {
   "cell_type": "code",
   "execution_count": 3,
   "id": "42c94e4f-43ec-4852-aec7-59f9e91b8a78",
   "metadata": {},
   "outputs": [
    {
     "data": {
      "text/plain": [
       "31.400000000000002"
      ]
     },
     "execution_count": 3,
     "metadata": {},
     "output_type": "execute_result"
    }
   ],
   "source": [
    "findCircum(r)"
   ]
  },
  {
   "cell_type": "code",
   "execution_count": null,
   "id": "b0fa2519-48a6-42e4-9f04-e90d27fd2b20",
   "metadata": {},
   "outputs": [],
   "source": []
  },
  {
   "cell_type": "code",
   "execution_count": null,
   "id": "ce1a4886-c239-4532-9ef5-bf75ce547f42",
   "metadata": {},
   "outputs": [],
   "source": []
  },
  {
   "cell_type": "code",
   "execution_count": null,
   "id": "807b1944-ef10-4e0c-812d-a8a3d9984228",
   "metadata": {},
   "outputs": [],
   "source": []
  },
  {
   "cell_type": "code",
   "execution_count": null,
   "id": "6839cbd7-f797-458b-b461-a6690c1990f9",
   "metadata": {},
   "outputs": [],
   "source": []
  }
 ],
 "metadata": {
  "kernelspec": {
   "display_name": "Python 3 (ipykernel)",
   "language": "python",
   "name": "python3"
  },
  "language_info": {
   "codemirror_mode": {
    "name": "ipython",
    "version": 3
   },
   "file_extension": ".py",
   "mimetype": "text/x-python",
   "name": "python",
   "nbconvert_exporter": "python",
   "pygments_lexer": "ipython3",
   "version": "3.9.11"
  }
 },
 "nbformat": 4,
 "nbformat_minor": 5
}
