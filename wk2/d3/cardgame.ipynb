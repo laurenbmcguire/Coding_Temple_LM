{
 "cells": [
  {
   "cell_type": "code",
   "execution_count": null,
   "id": "b6e8fd2a-28c4-4ae6-84d3-51ecfa54d5e5",
   "metadata": {},
   "outputs": [],
   "source": [
    "class Card: \n",
    "    suites=['/u266','/u2665','/u2663','/u2660']\n",
    "    ranks=['2','3','4','5','6','7','8','9','10','J','Q','K','A']\n",
    "    \n",
    "    def _init_(self, suite, rank):\n",
    "        self.suite = suite\n",
    "        self.rank = rank\n",
    "        \n",
    "    def _str_(self)\n",
    "        return f\"{Card.ranks[self.rank]}{Card.suites[self.suites]}\n",
    "    def \n"
   ]
  },
  {
   "cell_type": "code",
   "execution_count": null,
   "id": "38bf0cde-1559-4a7f-b307-3d35fe2e5a80",
   "metadata": {},
   "outputs": [],
   "source": []
  }
 ],
 "metadata": {
  "kernelspec": {
   "display_name": "Python 3",
   "language": "python",
   "name": "python3"
  },
  "language_info": {
   "codemirror_mode": {
    "name": "ipython",
    "version": 3
   },
   "file_extension": ".py",
   "mimetype": "text/x-python",
   "name": "python",
   "nbconvert_exporter": "python",
   "pygments_lexer": "ipython3",
   "version": "3.8.8"
  }
 },
 "nbformat": 4,
 "nbformat_minor": 5
}
