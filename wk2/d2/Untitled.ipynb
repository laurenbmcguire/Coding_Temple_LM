{
 "cells": [
  {
   "cell_type": "code",
   "execution_count": 1,
   "id": "9e4fb413-7ab8-4f98-b641-370e6d9c0ad3",
   "metadata": {},
   "outputs": [
    {
     "name": "stdout",
     "output_type": "stream",
     "text": [
      "Shopping Cart\n"
     ]
    }
   ],
   "source": [
    "print (\"Shopping Cart\")"
   ]
  },
  {
   "cell_type": "code",
   "execution_count": 2,
   "id": "69f05b84-3923-40fd-ab1c-71be7803065a",
   "metadata": {},
   "outputs": [
    {
     "name": "stdin",
     "output_type": "stream",
     "text": [
      "What is your first name? Lauren\n"
     ]
    }
   ],
   "source": [
    "user_first_name=(input(\"What is your first name?\"))"
   ]
  },
  {
   "cell_type": "code",
   "execution_count": 3,
   "id": "8835a456-7546-40ae-b67c-323dcc2ed765",
   "metadata": {},
   "outputs": [
    {
     "data": {
      "text/plain": [
       "'Lauren'"
      ]
     },
     "execution_count": 3,
     "metadata": {},
     "output_type": "execute_result"
    }
   ],
   "source": [
    "user_first_name"
   ]
  },
  {
   "cell_type": "code",
   "execution_count": 1,
   "id": "1a28e16b-9314-4892-ae92-75f4907140fe",
   "metadata": {},
   "outputs": [
    {
     "name": "stdin",
     "output_type": "stream",
     "text": [
      "What is your last name? McGuire\n"
     ]
    }
   ],
   "source": [
    "user_last_name=(input('What is your last name?'))"
   ]
  },
  {
   "cell_type": "code",
   "execution_count": 23,
   "id": "1ad89547-8e83-4319-99a0-f3e36d3785f5",
   "metadata": {},
   "outputs": [
    {
     "data": {
      "text/plain": [
       "'McGuire'"
      ]
     },
     "execution_count": 23,
     "metadata": {},
     "output_type": "execute_result"
    }
   ],
   "source": [
    "user_last_name"
   ]
  },
  {
   "cell_type": "code",
   "execution_count": null,
   "id": "45e5e683-8044-480a-a734-9566936d31c5",
   "metadata": {},
   "outputs": [],
   "source": [
    "dict {}"
   ]
  }
 ],
 "metadata": {
  "kernelspec": {
   "display_name": "Python 3",
   "language": "python",
   "name": "python3"
  },
  "language_info": {
   "codemirror_mode": {
    "name": "ipython",
    "version": 3
   },
   "file_extension": ".py",
   "mimetype": "text/x-python",
   "name": "python",
   "nbconvert_exporter": "python",
   "pygments_lexer": "ipython3",
   "version": "3.8.8"
  }
 },
 "nbformat": 4,
 "nbformat_minor": 5
}
