{
 "cells": [
  {
   "cell_type": "markdown",
   "id": "b157c831-2834-4e57-8de4-ed045e81c6de",
   "metadata": {},
   "source": [
    "# Shopping Cart Outline:\n",
    "## Greeting - username capture\n",
    "## Want user to select items to add/remove from cart and see cart total displayed\n",
    "### Needed:\n",
    "\n",
    "* item dictionary with item and price \n",
    "* functions for add/remove \n",
    "* input for item selected and qty\n",
    "* functions for price qty calculation and cart total calculation\n",
    "* loop that runs through these options until some termination"
   ]
  },
  {
   "cell_type": "code",
   "execution_count": null,
   "id": "6b41a2d4-713c-414c-8cdf-4d5dd59fff3e",
   "metadata": {},
   "outputs": [],
   "source": []
  }
 ],
 "metadata": {
  "kernelspec": {
   "display_name": "Python 3",
   "language": "python",
   "name": "python3"
  },
  "language_info": {
   "codemirror_mode": {
    "name": "ipython",
    "version": 3
   },
   "file_extension": ".py",
   "mimetype": "text/x-python",
   "name": "python",
   "nbconvert_exporter": "python",
   "pygments_lexer": "ipython3",
   "version": "3.8.8"
  }
 },
 "nbformat": 4,
 "nbformat_minor": 5
}
